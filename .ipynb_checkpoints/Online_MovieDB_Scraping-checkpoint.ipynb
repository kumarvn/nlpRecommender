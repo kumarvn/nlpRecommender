{
 "cells": [
  {
   "cell_type": "code",
   "execution_count": 392,
   "metadata": {
    "collapsed": true
   },
   "outputs": [],
   "source": [
    "import requests, os, sqlite3, csv, omdb, pickle, numpy as np, re"
   ]
  },
  {
   "cell_type": "code",
   "execution_count": 150,
   "metadata": {
    "collapsed": true
   },
   "outputs": [],
   "source": [
    "with sqlite3.connect('movies_database.db') as connection:\n",
    "    c = connection.cursor()\n",
    "    c.execute(\"DROP TABLE IF EXISTS Movies\")"
   ]
  },
  {
   "cell_type": "code",
   "execution_count": 151,
   "metadata": {
    "collapsed": false
   },
   "outputs": [],
   "source": [
    "#create database and movies table\n",
    "with sqlite3.connect('movies_database.db') as connection:\n",
    "    c = connection.cursor()\n",
    "    c.execute(\"CREATE TABLE Movies(imdbID PRIMARY KEY, Title TEXT, Genre TEXT, Plot TEXT, Poster TEXT)\")"
   ]
  },
  {
   "cell_type": "code",
   "execution_count": 152,
   "metadata": {
    "collapsed": false
   },
   "outputs": [],
   "source": [
    "#setting the file path where the csv is present\n",
    "def loadMovies(path,file):\n",
    "    '''function requires path on computer where the csv file is stored and the name of the csv file containing\n",
    "    the title of the films for which information needs to be obtained from the omdb API. The retrieved information\n",
    "    will be inserted into the movies table belonging to the movies_database'''\n",
    "    \n",
    "    filePath = path\n",
    "    fileName = file\n",
    "    with sqlite3.connect('movies_database.db') as connection, open(os.path.join(filePath, fileName), \"rb\") as myFile:\n",
    "        c = connection.cursor()\n",
    "        myFileReader = csv.reader(myFile)\n",
    "        for movies in myFileReader:\n",
    "            r = omdb.request(t= movies[0],plot=\"full\",r='json') #using indexing since data type of movies is a list\n",
    "            movieValues = (r.json()['imdbID'],r.json()['Title'],r.json()['Genre'],r.json()['Plot'],\n",
    "                           r.json()['Poster'])\n",
    "            c.execute(\"INSERT INTO Movies VALUES(?, ?, ?, ?, ?)\",(movieValues))"
   ]
  },
  {
   "cell_type": "code",
   "execution_count": 153,
   "metadata": {
    "collapsed": false
   },
   "outputs": [],
   "source": [
    "loadMovies('/home/clarence/Documents/theDataGeek','movielist.csv')"
   ]
  },
  {
   "cell_type": "code",
   "execution_count": 386,
   "metadata": {
    "collapsed": false
   },
   "outputs": [],
   "source": [
    "def uniqueGenres(path, filename):\n",
    "    '''A movie may be categorized into more than one genre, to create a corpus for each genre, we will need to first\n",
    "    extract each individual genre from the 'Genre' field in the movies table which are saved as tuples. We will then\n",
    "    proceed to retain only the unique values for genres. Lastly we will use these values to subset movie plots into\n",
    "    corpora'''\n",
    "\n",
    "    listofLists = []\n",
    "    singleList = []\n",
    "    global uniqueList\n",
    "    uniqueList = []\n",
    "    with sqlite3.connect('movies_database.db') as connection, open(os.path.join(path, filename),\n",
    "                                                                   \"wb\") as my_file:\n",
    "        my_file_writer = csv.writer(my_file,delimiter=\",\",quotechar=\"'\")\n",
    "        c = connection.cursor()\n",
    "        c.execute(\"SELECT Genre FROM Movies\")\n",
    "        for row in c.fetchall():\n",
    "            listofLists.append(row[0].split(',')) # splitting the multiple genre string into individual list items\n",
    "        for each_list in listofLists: # first level loop iterates over each list\n",
    "            for each_item in range(0,len(each_list)): # nested loop iterates over each list index\n",
    "                singleList.append(each_list[each_item]) # creates one list with duplicate genres\n",
    "        singleList = [item.strip() for item in singleList] #remove leading and trailing whitespace\n",
    "        [uniqueList.append(item) for item in singleList if item not in uniqueList] #drop duplicates\n",
    "        uniqueList.remove('N/A') # remove null values\n",
    "        uniqueList.sort()\n",
    "        \n",
    "        '''create a multidimensional numpy array with rows equal to length of uniqueList and one column.\n",
    "        Data type is specified as 16 character strings, to store each genre as a list within a list.\n",
    "        This additional step is required as the writerows function requires that csv values to be written\n",
    "        are a list of list data structure'''\n",
    "        \n",
    "        uniqueArray = np.array(range(len(uniqueList)), dtype='a16').reshape(len(uniqueList),1)\n",
    "        for item in range(0,len(uniqueList)):\n",
    "            uniqueArray[item][0] = uniqueList[item]\n",
    "        my_file_writer.writerows(uniqueArray) # write all rows at once\n",
    "        del listofLists, singleList, uniqueList #optimizing memory usage"
   ]
  },
  {
   "cell_type": "code",
   "execution_count": 387,
   "metadata": {
    "collapsed": false
   },
   "outputs": [],
   "source": [
    "#running the function to create a list of unique genres\n",
    "uniqueGenres(path='/home/clarence/Documents/theDataGeek/nlpRecommender', filename='genrelist.csv')"
   ]
  },
  {
   "cell_type": "code",
   "execution_count": 388,
   "metadata": {
    "collapsed": true
   },
   "outputs": [
    {
     "name": "stdout",
     "output_type": "stream",
     "text": [
      "['Action']\n",
      "['Adventure']\n",
      "['Animation']\n",
      "['Biography']\n",
      "['Comedy']\n",
      "['Crime']\n",
      "['Documentary']\n",
      "['Drama']\n",
      "['Family']\n",
      "['Fantasy']\n",
      "['History']\n",
      "['Horror']\n",
      "['Music']\n",
      "['Musical']\n",
      "['Mystery']\n",
      "['Romance']\n",
      "['Sci-Fi']\n",
      "['Short']\n",
      "['Sport']\n",
      "['Thriller']\n",
      "['Western']\n"
     ]
    }
   ],
   "source": [
    "#testing if the data was sucessfully written to a csv file\n",
    "with open(os.path.join('/home/clarence/Documents/theDataGeek/nlpRecommender', 'genrelist.csv'), \"rb\") as myFile:\n",
    "    myFileReader = csv.reader(myFile)\n",
    "    for genres in myFileReader:\n",
    "        print genres"
   ]
  },
  {
   "cell_type": "code",
   "execution_count": 424,
   "metadata": {
    "collapsed": false
   },
   "outputs": [],
   "source": [
    "'''create individual corpus based on unique genres. We will use pattern search '%xxx%' where xxx is the substring\n",
    "pattern'''\n",
    "\n",
    "inPath = '/home/clarence/Documents/theDataGeek/nlpRecommender'\n",
    "outPath = '/home/clarence/Documents/theDataGeek/nlpRecommender/corpora'\n",
    "fileName = 'genrelist.csv'\n",
    "with sqlite3.connect('movies_database.db') as connection,open(os.path.join(inPath, fileName), \"rb\") as inputFile:\n",
    "    myFileReader = csv.reader(inputFile)\n",
    "    c = connection.cursor()\n",
    "    for genre in myFileReader:\n",
    "        '''store output in files named after each genre'''\n",
    "        with open(os.path.join(outPath,'%s.csv' %genre[0]), \"wb\") as outputFile:\n",
    "            my_file_writer = csv.writer(outputFile,delimiter=\",\",quotechar=\"'\")  \n",
    "            c.execute(\"SELECT Plot FROM Movies WHERE Genre LIKE '%Action%'\" )\n",
    "            my_file_writer.writerows(c.fetchall())"
   ]
  },
  {
   "cell_type": "code",
   "execution_count": 100,
   "metadata": {
    "collapsed": true
   },
   "outputs": [],
   "source": [
    "r = omdb.request(t= 'The Avengers',plot='full',r='json')"
   ]
  },
  {
   "cell_type": "code",
   "execution_count": 101,
   "metadata": {
    "collapsed": false
   },
   "outputs": [
    {
     "data": {
      "text/plain": [
       "{u'Actors': u'Robert Downey Jr., Chris Evans, Mark Ruffalo, Chris Hemsworth',\n",
       " u'Awards': u'Nominated for 1 Oscar. Another 31 wins & 66 nominations.',\n",
       " u'Country': u'USA',\n",
       " u'Director': u'Joss Whedon',\n",
       " u'Genre': u'Action, Adventure, Sci-Fi',\n",
       " u'Language': u'English, Russian',\n",
       " u'Metascore': u'69',\n",
       " u'Plot': u\"Nick Fury is director of S.H.I.E.L.D, an international peace keeping agency. The agency is a who's who of Marvel Super Heroes, with Iron Man, The Incredible Hulk, Thor, Captain America, Hawkeye and Black Widow. When global security is threatened by Loki and his cohorts, Nick Fury and his team will need all their powers to save the world from disaster.\",\n",
       " u'Poster': u'http://ia.media-imdb.com/images/M/MV5BMTk2NTI1MTU4N15BMl5BanBnXkFtZTcwODg0OTY0Nw@@._V1_SX300.jpg',\n",
       " u'Rated': u'PG-13',\n",
       " u'Released': u'04 May 2012',\n",
       " u'Response': u'True',\n",
       " u'Runtime': u'143 min',\n",
       " u'Title': u'The Avengers',\n",
       " u'Type': u'movie',\n",
       " u'Writer': u'Joss Whedon (screenplay), Zak Penn (story), Joss Whedon (story)',\n",
       " u'Year': u'2012',\n",
       " u'imdbID': u'tt0848228',\n",
       " u'imdbRating': u'8.2',\n",
       " u'imdbVotes': u'818,776'}"
      ]
     },
     "execution_count": 101,
     "metadata": {},
     "output_type": "execute_result"
    }
   ],
   "source": [
    "r.json()"
   ]
  },
  {
   "cell_type": "code",
   "execution_count": 96,
   "metadata": {
    "collapsed": true
   },
   "outputs": [],
   "source": [
    "#example of how to use the OMDB api directly\n",
    "r1 = requests.get('http://www.omdbapi.com/?t=The+Avengers&plot=full&r=json')"
   ]
  },
  {
   "cell_type": "code",
   "execution_count": 141,
   "metadata": {
    "collapsed": false
   },
   "outputs": [
    {
     "data": {
      "text/plain": [
       "'tt0848228'"
      ]
     },
     "execution_count": 141,
     "metadata": {},
     "output_type": "execute_result"
    }
   ],
   "source": [
    "str(r1.json()['imdbID'])"
   ]
  },
  {
   "cell_type": "code",
   "execution_count": 77,
   "metadata": {
    "collapsed": true
   },
   "outputs": [
    {
     "name": "stdout",
     "output_type": "stream",
     "text": [
      "[u'Plot', u'Rated', u'tomatoImage', u'Title', u'DVD', u'tomatoMeter', u'Writer', u'tomatoUserRating', u'Production', u'Actors', u'tomatoFresh', u'Type', u'imdbVotes', u'Website', u'tomatoConsensus', u'Poster', u'tomatoRotten', u'Director', u'Released', u'tomatoUserReviews', u'Awards', u'Genre', u'tomatoUserMeter', u'imdbRating', u'Language', u'Country', u'BoxOffice', u'Runtime', u'tomatoReviews', u'imdbID', u'Metascore', u'Response', u'tomatoRating', u'Year']\n"
     ]
    }
   ],
   "source": [
    "movieHeaders = list(r.json().keys())\n",
    "print movieHeaders"
   ]
  },
  {
   "cell_type": "code",
   "execution_count": 71,
   "metadata": {
    "collapsed": true
   },
   "outputs": [],
   "source": [
    "from imdb import IMDb\n",
    "ia= IMDb()"
   ]
  },
  {
   "cell_type": "code",
   "execution_count": 78,
   "metadata": {
    "collapsed": false
   },
   "outputs": [
    {
     "data": {
      "text/plain": [
       "u'Plot'"
      ]
     },
     "execution_count": 78,
     "metadata": {},
     "output_type": "execute_result"
    }
   ],
   "source": [
    "movieHeaders[0]"
   ]
  },
  {
   "cell_type": "code",
   "execution_count": 79,
   "metadata": {
    "collapsed": false
   },
   "outputs": [],
   "source": [
    "for i in range(0, len(r.json().keys())):\n",
    "  type(r.json().values()[i])"
   ]
  },
  {
   "cell_type": "code",
   "execution_count": 80,
   "metadata": {
    "collapsed": false
   },
   "outputs": [
    {
     "data": {
      "text/plain": [
       "34"
      ]
     },
     "execution_count": 80,
     "metadata": {},
     "output_type": "execute_result"
    }
   ],
   "source": [
    "len(r.json().keys())"
   ]
  },
  {
   "cell_type": "code",
   "execution_count": 81,
   "metadata": {
    "collapsed": false
   },
   "outputs": [
    {
     "data": {
      "text/plain": [
       "92"
      ]
     },
     "execution_count": 81,
     "metadata": {},
     "output_type": "execute_result"
    }
   ],
   "source": [
    "int(r.json().values()[5])"
   ]
  },
  {
   "cell_type": "code",
   "execution_count": 82,
   "metadata": {
    "collapsed": false
   },
   "outputs": [
    {
     "name": "stdout",
     "output_type": "stream",
     "text": [
      "Action, Adventure, Sci-Fi\n"
     ]
    }
   ],
   "source": [
    "print r.json()['Genre']"
   ]
  },
  {
   "cell_type": "code",
   "execution_count": 99,
   "metadata": {
    "collapsed": false
   },
   "outputs": [],
   "source": [
    "MovieID,Title,Genre=[str(r.json()['imdbID']),str(r.json()['Title']),str(r.json()['Genre'])]"
   ]
  }
 ],
 "metadata": {
  "kernelspec": {
   "display_name": "Python 2",
   "language": "python",
   "name": "python2"
  },
  "language_info": {
   "codemirror_mode": {
    "name": "ipython",
    "version": 2
   },
   "file_extension": ".py",
   "mimetype": "text/x-python",
   "name": "python",
   "nbconvert_exporter": "python",
   "pygments_lexer": "ipython2",
   "version": "2.7.9"
  }
 },
 "nbformat": 4,
 "nbformat_minor": 0
}
